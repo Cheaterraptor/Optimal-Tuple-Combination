{
 "cells": [
  {
   "cell_type": "code",
   "execution_count": 132,
   "metadata": {},
   "outputs": [],
   "source": [
    "import numpy as np\n",
    "import pandas as pd"
   ]
  },
  {
   "cell_type": "code",
   "execution_count": 133,
   "metadata": {},
   "outputs": [],
   "source": [
    "# Set numpy seed \n",
    "np.random.seed(2)"
   ]
  },
  {
   "cell_type": "code",
   "execution_count": 134,
   "metadata": {},
   "outputs": [
    {
     "name": "stdout",
     "output_type": "stream",
     "text": [
      "          A         B         C\n",
      "0  0.435995  0.025926  0.549662\n",
      "1  0.435322  0.420368  0.330335\n",
      "2  0.204649  0.619271  0.299655\n",
      "3  0.266827  0.621134  0.529142\n",
      "4  0.134580  0.513578  0.184440\n"
     ]
    }
   ],
   "source": [
    "# First, generate our dataset\n",
    "data = np.random.rand(100, 3)\n",
    "df = pd.DataFrame(data, columns=[\"A\", \"B\", \"C\"])\n",
    "weights = [1, -1, 1]\n",
    "print(df.head())"
   ]
  },
  {
   "cell_type": "code",
   "execution_count": 135,
   "metadata": {},
   "outputs": [
    {
     "name": "stdout",
     "output_type": "stream",
     "text": [
      "     A   B  C\n",
      "67  54 -21  1\n",
      "62  46 -80  2\n",
      "25  75 -39  3\n",
      "74  74 -84  4\n",
      "51  62  -8  5\n"
     ]
    }
   ],
   "source": [
    "# Generate a ranking of each variable (we want to maximize B and minimize C)\n",
    "# For this, sort each column iteratively and then assign values\n",
    "ranked_df = df.copy()\n",
    "for i in range(len(ranked_df.columns)):\n",
    "    col = ranked_df.columns[i]\n",
    "    weight = weights[i]\n",
    "    ranked_df = ranked_df.sort_values(by=[col])\n",
    "    ranked_df[col] = weight * np.arange(1, len(ranked_df) + 1)\n",
    "print(ranked_df.head())"
   ]
  },
  {
   "cell_type": "code",
   "execution_count": 136,
   "metadata": {},
   "outputs": [
    {
     "data": {
      "text/plain": [
       "Text(0, 0.5, 'Value Sum')"
      ]
     },
     "execution_count": 136,
     "metadata": {},
     "output_type": "execute_result"
    },
    {
     "data": {
      "image/png": "[encoded data removed]",
      "text/plain": [
       "<Figure size 432x288 with 1 Axes>"
      ]
     },
     "metadata": {
      "needs_background": "light"
     },
     "output_type": "display_data"
    }
   ],
   "source": [
    "# Build the sum of each column and order\n",
    "ranked_df[\"result\"] = ranked_df.sum(axis=1)\n",
    "ranked_df = ranked_df.sort_values(by=[\"result\"])\n",
    "ranked_df[\"rank\"] = np.arange(1, len(ranked_df) + 1)\n",
    "ax = ranked_df.plot(\"rank\", \"result\", colormap='jet', title=\"Sum vs Rank\")\n",
    "ax.set_xlabel(\"Rank\")\n",
    "ax.set_ylabel(\"Value Sum\")"
   ]
  },
  {
   "cell_type": "code",
   "execution_count": 137,
   "metadata": {},
   "outputs": [
    {
     "name": "stdout",
     "output_type": "stream",
     "text": [
      "The optimal combination is: [0.02520142 0.94045049 0.10213795]\n"
     ]
    }
   ],
   "source": [
    "optimal_index = ranked_df.iloc[0].name\n",
    "print(\"The optimal combination is: \" + str(df.loc[optimal_index].values))\n",
    "# I tested it up to 20 000 000 values, for these, it ran in 30 Seconds."
   ]
  }
 ],
 "metadata": {
  "kernelspec": {
   "display_name": "Python 3.9.5 64-bit",
   "language": "python",
   "name": "python3"
  },
  "language_info": {
   "codemirror_mode": {
    "name": "ipython",
    "version": 3
   },
   "file_extension": ".py",
   "mimetype": "text/x-python",
   "name": "python",
   "nbconvert_exporter": "python",
   "pygments_lexer": "ipython3",
   "version": "3.9.5"
  },
  "orig_nbformat": 4,
  "vscode": {
   "interpreter": {
    "hash": "4f95cac2866d48a154725f15da66ad3889a01053732bcd1fedad154961939282"
   }
  }
 },
 "nbformat": 4,
 "nbformat_minor": 2
}
