{
 "cells": [
  {
   "cell_type": "code",
   "execution_count": 1,
   "metadata": {},
   "outputs": [],
   "source": [
    "import numpy as np\n",
    "import pandas as pd"
   ]
  },
  {
   "cell_type": "code",
   "execution_count": 2,
   "metadata": {},
   "outputs": [],
   "source": [
    "# Set numpy seed \n",
    "np.random.seed(2)"
   ]
  },
  {
   "cell_type": "code",
   "execution_count": 4,
   "metadata": {},
   "outputs": [
    {
     "name": "stdout",
     "output_type": "stream",
     "text": [
      "          A         B         C\n",
      "0  0.029149  0.372893  0.095873\n",
      "1  0.196964  0.942421  0.371271\n",
      "2  0.729001  0.126160  0.251283\n",
      "3  0.881235  0.903296  0.287635\n",
      "4  0.967113  0.668099  0.503007\n"
     ]
    }
   ],
   "source": [
    "# First, generate our dataset\n",
    "data = np.random.rand(100, 3)\n",
    "df = pd.DataFrame(data, columns=[\"A\", \"B\", \"C\"])\n",
    "# Define our weights\n",
    "weights = [1, -1, 1]\n",
    "print(df.head())"
   ]
  },
  {
   "cell_type": "code",
   "execution_count": 5,
   "metadata": {},
   "outputs": [
    {
     "name": "stdout",
     "output_type": "stream",
     "text": [
      "     A   B  C\n",
      "18  83 -96  1\n",
      "54  70 -84  2\n",
      "41  95 -59  3\n",
      "36  61 -76  4\n",
      "6   71 -54  5\n"
     ]
    }
   ],
   "source": [
    "# Generate a ranking of each variable (we want to maximize B and minimize A, C)\n",
    "# For this, sort each column iteratively and then assign values\n",
    "ranked_df = df.copy()\n",
    "for i in range(len(ranked_df.columns)):\n",
    "    col = ranked_df.columns[i]\n",
    "    weight = weights[i]\n",
    "    ranked_df = ranked_df.sort_values(by=[col])\n",
    "    ranked_df[col] = weight * np.arange(1, len(ranked_df) + 1)\n",
    "print(ranked_df.head())"
   ]
  },
  {
   "cell_type": "code",
   "execution_count": 7,
   "metadata": {},
   "outputs": [
    {
     "data": {
      "text/plain": [
       "Text(0, 0.5, 'Value Sum')"
      ]
     },
     "execution_count": 7,
     "metadata": {},
     "output_type": "execute_result"
    },
    {
     "data": {
      "image/png": "[encoded data removed]",
      "text/plain": [
       "<Figure size 432x288 with 1 Axes>"
      ]
     },
     "metadata": {
      "needs_background": "light"
     },
     "output_type": "display_data"
    }
   ],
   "source": [
    "# Build the sum of each column and order\n",
    "ranked_df[\"result\"] = ranked_df.sum(axis=1)\n",
    "ranked_df = ranked_df.sort_values(by=[\"result\"])\n",
    "ranked_df[\"rank\"] = np.arange(1, len(ranked_df) + 1)\n",
    "ax = ranked_df.plot(\"rank\", \"result\", colormap='jet', title=\"Sum vs Rank\")\n",
    "ax.set_xlabel(\"Rank\")\n",
    "ax.set_ylabel(\"Value Sum\")"
   ]
  },
  {
   "cell_type": "code",
   "execution_count": 8,
   "metadata": {},
   "outputs": [
    {
     "name": "stdout",
     "output_type": "stream",
     "text": [
      "The optimal combination is: [0.0639251  0.8125177  0.14018418]\n"
     ]
    }
   ],
   "source": [
    "optimal_index = ranked_df.iloc[0].name\n",
    "print(\"The optimal combination is: \" + str(df.loc[optimal_index].values))\n",
    "# I tested it up to 20 000 000 values, for these, it ran in 30 Seconds."
   ]
  }
 ],
 "metadata": {
  "kernelspec": {
   "display_name": "Python 3.9.13 64-bit (microsoft store)",
   "language": "python",
   "name": "python3"
  },
  "language_info": {
   "codemirror_mode": {
    "name": "ipython",
    "version": 3
   },
   "file_extension": ".py",
   "mimetype": "text/x-python",
   "name": "python",
   "nbconvert_exporter": "python",
   "pygments_lexer": "ipython3",
   "version": "3.9.13"
  },
  "orig_nbformat": 4,
  "vscode": {
   "interpreter": {
    "hash": "eb38ac6a71fb9be1d06aed913f547bc7aeb7f4db9706a4d0f5a82d469d90610c"
   }
  }
 },
 "nbformat": 4,
 "nbformat_minor": 2
}
